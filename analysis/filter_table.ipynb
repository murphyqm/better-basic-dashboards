{
 "cells": [
  {
   "cell_type": "code",
   "execution_count": 6,
   "id": "e610da67",
   "metadata": {},
   "outputs": [],
   "source": [
    "import numpy as np\n",
    "import matplotlib.pyplot as plt\n",
    "import pandas as pd\n",
    "import seaborn as sns\n",
    "import plotly.express as px"
   ]
  },
  {
   "cell_type": "code",
   "execution_count": 7,
   "id": "4f4cf6ca",
   "metadata": {},
   "outputs": [],
   "source": [
    "# Load in the data\n",
    "data = pd.read_csv(\"data_raw/results_raw.csv\")\n",
    "data = data[data.identifier == \"random\"]\n",
    "\n",
    "# Calculate rough background temp\n",
    "data[\"mantle_temp\"] = (data[\"temp_top\"] + data[\"temp_bottom\"])/2\n",
    "\n",
    "# Calculate aspect ratio of intrusion shapes\n",
    "data[\"r_z/r_x\"] = data[\"r_z\"]/data[\"r_x\"]\n",
    "data[\"r_y/r_x\"] = data[\"r_y\"]/data[\"r_x\"]\n",
    "data[\"unique/non-unique\"] = data[\"r_z/r_x\"]\n",
    "data.loc[data.orientation == \"x=z\", \"unique/non-unique\"] = data[\"r_y/r_x\"]\n",
    "\n",
    "data[\"avg_r\"] = (data[\"r_x\"] + data[\"r_y\"] + data[\"r_z\"])/3\n",
    "data[\"non-uni\"] = data[\"r_x\"]\n",
    "data[\"uni\"] = data[\"r_z\"]\n",
    "data.loc[data.orientation == \"x=z\", \"uni\"] = data[\"r_y\"]"
   ]
  },
  {
   "cell_type": "code",
   "execution_count": 8,
   "id": "63a5d488",
   "metadata": {},
   "outputs": [
    {
     "data": {
      "text/plain": [
       "Index(['Unnamed: 0.1', 'index', 'Unnamed: 0', 'ext_temp', 'temp_top',\n",
       "       'temp_bottom', 'int_temp', 'sample_time', 'identifier', 'r_x', 'r_y',\n",
       "       'r_z', 'metal_fraction', 'job_no', 'id', 'which_iter', 'boundary_cond',\n",
       "       'Nx', 'Ny', 'Nz', 'Lx', 'Ly', 'Lz', 'x_mid', 'y_mid', 'z_mid', 'T_L',\n",
       "       'T_S', 'cond_metal_s', 'cond_metal_l', 'cond_olivine', 'dens_liq_metal',\n",
       "       'dens_solid_metal', 'dens_olivine', 'heat_cap_liq_metal',\n",
       "       'heat_cap_solid_metal', 'heat_cap_ol', 'latent_heat', 'dt',\n",
       "       'iterations', 'save_iter', 'iteration_list', 'orientation', 'model_id',\n",
       "       'percent_rounded', 'percent_geochem_preserved', 'expected_vol',\n",
       "       'actual_volume', 'mean_it0', 'mean_it1', 'mean_it2', 'mean_it3',\n",
       "       'mantle_temp', 'r_z/r_x', 'r_y/r_x', 'unique/non-unique', 'avg_r',\n",
       "       'non-uni', 'uni'],\n",
       "      dtype='object')"
      ]
     },
     "execution_count": 8,
     "metadata": {},
     "output_type": "execute_result"
    }
   ],
   "source": [
    "data.columns"
   ]
  },
  {
   "cell_type": "code",
   "execution_count": 10,
   "id": "e39c2e90",
   "metadata": {},
   "outputs": [],
   "source": [
    "new_data = data[[\"percent_rounded\", \"percent_geochem_preserved\", \"actual_volume\", \"avg_r\", 'non-uni', 'uni', 'mantle_temp','int_temp','mean_it3']]"
   ]
  },
  {
   "cell_type": "code",
   "execution_count": 11,
   "id": "f3578798",
   "metadata": {},
   "outputs": [],
   "source": [
    "new_data.to_csv(\"filtered_data.csv\")"
   ]
  },
  {
   "cell_type": "code",
   "execution_count": null,
   "id": "e89988c9",
   "metadata": {},
   "outputs": [],
   "source": []
  }
 ],
 "metadata": {
  "kernelspec": {
   "display_name": "Python 3 (ipykernel)",
   "language": "python",
   "name": "python3"
  },
  "language_info": {
   "codemirror_mode": {
    "name": "ipython",
    "version": 3
   },
   "file_extension": ".py",
   "mimetype": "text/x-python",
   "name": "python",
   "nbconvert_exporter": "python",
   "pygments_lexer": "ipython3",
   "version": "3.12.7"
  }
 },
 "nbformat": 4,
 "nbformat_minor": 5
}
